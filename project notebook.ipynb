{
 "cells": [
  {
   "cell_type": "markdown",
   "metadata": {},
   "source": [
    "## 207 -Applied Machine Learning Project: Predicting Attrition of an Online Store Site\n",
    "\n",
    "#### Authors:\n",
    "\n",
    "Diego Moss\n",
    "Sammy Cayo\n",
    "Conor Huh\n",
    "Roz Huang\n",
    "Jasmine Lau\n",
    "\n"
   ]
  }
 ],
 "metadata": {
  "language_info": {
   "name": "python"
  }
 },
 "nbformat": 4,
 "nbformat_minor": 2
}
